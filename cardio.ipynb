{
 "cells": [
  {
   "cell_type": "code",
   "execution_count": 2,
   "metadata": {
    "_cell_guid": "79c7e3d0-c299-4dcb-8224-4455121ee9b0",
    "_uuid": "d629ff2d2480ee46fbb7e2d37f6b5fab8052498a"
   },
   "outputs": [
    {
     "name": "stderr",
     "output_type": "stream",
     "text": [
      "Using TensorFlow backend.\n"
     ]
    }
   ],
   "source": [
    "import numpy as np\n",
    "import matplotlib.pyplot as plt\n",
    "import pandas as pd\n",
    "from sklearn.model_selection import train_test_split\n",
    "from sklearn.ensemble import RandomForestClassifier, BaggingClassifier\n",
    "from sklearn import model_selection\n",
    "from sklearn.ensemble import BaggingClassifier\n",
    "from sklearn.ensemble import ExtraTreesClassifier\n",
    "from sklearn.ensemble import AdaBoostClassifier\n",
    "from sklearn.ensemble import GradientBoostingClassifier\n",
    "from sklearn.metrics import classification_report\n",
    "from sklearn.tree import DecisionTreeClassifier\n",
    "from sklearn.linear_model import LogisticRegression\n",
    "from sklearn.neighbors import KNeighborsClassifier\n",
    "from sklearn.pipeline import Pipeline\n",
    "from sklearn.linear_model import SGDClassifier\n",
    "import category_encoders as ce\n",
    "import plotly.graph_objs as go\n",
    "from tqdm import tqdm\n",
    "from sklearn.preprocessing import LabelEncoder\n",
    "from sklearn.metrics import accuracy_score\n",
    "from sklearn.ensemble  import RandomForestClassifier\n",
    "from sklearn.tree import DecisionTreeClassifier\n",
    "from sklearn.naive_bayes import GaussianNB\n",
    "from sklearn.svm import SVC\n",
    "from keras.layers import Dense, Dropout, LSTM, Embedding\n",
    "from keras.preprocessing.sequence import pad_sequences\n",
    "from keras.models import Sequential\n",
    "from sklearn.metrics import confusion_matrix \n",
    "import seaborn as sn\n",
    "from keras.models import Sequential\n",
    "from keras.layers import Dense\n",
    "from keras.wrappers.scikit_learn import KerasClassifier\n",
    "from sklearn.model_selection import cross_val_score\n",
    "from sklearn.model_selection import StratifiedKFold\n",
    "from sklearn.preprocessing import StandardScaler\n",
    "from sklearn.pipeline import Pipeline"
   ]
  },
  {
   "cell_type": "code",
   "execution_count": 3,
   "metadata": {},
   "outputs": [],
   "source": [
    "dataset=pd.read_csv('heart.csv')\n",
    "df=dataset"
   ]
  },
  {
   "cell_type": "code",
   "execution_count": 4,
   "metadata": {},
   "outputs": [
    {
     "data": {
      "text/html": [
       "<div>\n",
       "<style scoped>\n",
       "    .dataframe tbody tr th:only-of-type {\n",
       "        vertical-align: middle;\n",
       "    }\n",
       "\n",
       "    .dataframe tbody tr th {\n",
       "        vertical-align: top;\n",
       "    }\n",
       "\n",
       "    .dataframe thead th {\n",
       "        text-align: right;\n",
       "    }\n",
       "</style>\n",
       "<table border=\"1\" class=\"dataframe\">\n",
       "  <thead>\n",
       "    <tr style=\"text-align: right;\">\n",
       "      <th></th>\n",
       "      <th>age</th>\n",
       "      <th>sex</th>\n",
       "      <th>cp</th>\n",
       "      <th>trestbps</th>\n",
       "      <th>chol</th>\n",
       "      <th>fbs</th>\n",
       "      <th>restecg</th>\n",
       "      <th>thalach</th>\n",
       "      <th>exang</th>\n",
       "      <th>oldpeak</th>\n",
       "      <th>slope</th>\n",
       "      <th>ca</th>\n",
       "      <th>thal</th>\n",
       "      <th>target</th>\n",
       "    </tr>\n",
       "  </thead>\n",
       "  <tbody>\n",
       "    <tr>\n",
       "      <th>0</th>\n",
       "      <td>63</td>\n",
       "      <td>1</td>\n",
       "      <td>3</td>\n",
       "      <td>145</td>\n",
       "      <td>233</td>\n",
       "      <td>1</td>\n",
       "      <td>0</td>\n",
       "      <td>150</td>\n",
       "      <td>0</td>\n",
       "      <td>2.3</td>\n",
       "      <td>0</td>\n",
       "      <td>0</td>\n",
       "      <td>1</td>\n",
       "      <td>1</td>\n",
       "    </tr>\n",
       "    <tr>\n",
       "      <th>1</th>\n",
       "      <td>37</td>\n",
       "      <td>1</td>\n",
       "      <td>2</td>\n",
       "      <td>130</td>\n",
       "      <td>250</td>\n",
       "      <td>0</td>\n",
       "      <td>1</td>\n",
       "      <td>187</td>\n",
       "      <td>0</td>\n",
       "      <td>3.5</td>\n",
       "      <td>0</td>\n",
       "      <td>0</td>\n",
       "      <td>2</td>\n",
       "      <td>1</td>\n",
       "    </tr>\n",
       "    <tr>\n",
       "      <th>2</th>\n",
       "      <td>41</td>\n",
       "      <td>0</td>\n",
       "      <td>1</td>\n",
       "      <td>130</td>\n",
       "      <td>204</td>\n",
       "      <td>0</td>\n",
       "      <td>0</td>\n",
       "      <td>172</td>\n",
       "      <td>0</td>\n",
       "      <td>1.4</td>\n",
       "      <td>2</td>\n",
       "      <td>0</td>\n",
       "      <td>2</td>\n",
       "      <td>1</td>\n",
       "    </tr>\n",
       "    <tr>\n",
       "      <th>3</th>\n",
       "      <td>56</td>\n",
       "      <td>1</td>\n",
       "      <td>1</td>\n",
       "      <td>120</td>\n",
       "      <td>236</td>\n",
       "      <td>0</td>\n",
       "      <td>1</td>\n",
       "      <td>178</td>\n",
       "      <td>0</td>\n",
       "      <td>0.8</td>\n",
       "      <td>2</td>\n",
       "      <td>0</td>\n",
       "      <td>2</td>\n",
       "      <td>1</td>\n",
       "    </tr>\n",
       "    <tr>\n",
       "      <th>4</th>\n",
       "      <td>57</td>\n",
       "      <td>0</td>\n",
       "      <td>0</td>\n",
       "      <td>120</td>\n",
       "      <td>354</td>\n",
       "      <td>0</td>\n",
       "      <td>1</td>\n",
       "      <td>163</td>\n",
       "      <td>1</td>\n",
       "      <td>0.6</td>\n",
       "      <td>2</td>\n",
       "      <td>0</td>\n",
       "      <td>2</td>\n",
       "      <td>1</td>\n",
       "    </tr>\n",
       "    <tr>\n",
       "      <th>...</th>\n",
       "      <td>...</td>\n",
       "      <td>...</td>\n",
       "      <td>...</td>\n",
       "      <td>...</td>\n",
       "      <td>...</td>\n",
       "      <td>...</td>\n",
       "      <td>...</td>\n",
       "      <td>...</td>\n",
       "      <td>...</td>\n",
       "      <td>...</td>\n",
       "      <td>...</td>\n",
       "      <td>...</td>\n",
       "      <td>...</td>\n",
       "      <td>...</td>\n",
       "    </tr>\n",
       "    <tr>\n",
       "      <th>298</th>\n",
       "      <td>57</td>\n",
       "      <td>0</td>\n",
       "      <td>0</td>\n",
       "      <td>140</td>\n",
       "      <td>241</td>\n",
       "      <td>0</td>\n",
       "      <td>1</td>\n",
       "      <td>123</td>\n",
       "      <td>1</td>\n",
       "      <td>0.2</td>\n",
       "      <td>1</td>\n",
       "      <td>0</td>\n",
       "      <td>3</td>\n",
       "      <td>0</td>\n",
       "    </tr>\n",
       "    <tr>\n",
       "      <th>299</th>\n",
       "      <td>45</td>\n",
       "      <td>1</td>\n",
       "      <td>3</td>\n",
       "      <td>110</td>\n",
       "      <td>264</td>\n",
       "      <td>0</td>\n",
       "      <td>1</td>\n",
       "      <td>132</td>\n",
       "      <td>0</td>\n",
       "      <td>1.2</td>\n",
       "      <td>1</td>\n",
       "      <td>0</td>\n",
       "      <td>3</td>\n",
       "      <td>0</td>\n",
       "    </tr>\n",
       "    <tr>\n",
       "      <th>300</th>\n",
       "      <td>68</td>\n",
       "      <td>1</td>\n",
       "      <td>0</td>\n",
       "      <td>144</td>\n",
       "      <td>193</td>\n",
       "      <td>1</td>\n",
       "      <td>1</td>\n",
       "      <td>141</td>\n",
       "      <td>0</td>\n",
       "      <td>3.4</td>\n",
       "      <td>1</td>\n",
       "      <td>2</td>\n",
       "      <td>3</td>\n",
       "      <td>0</td>\n",
       "    </tr>\n",
       "    <tr>\n",
       "      <th>301</th>\n",
       "      <td>57</td>\n",
       "      <td>1</td>\n",
       "      <td>0</td>\n",
       "      <td>130</td>\n",
       "      <td>131</td>\n",
       "      <td>0</td>\n",
       "      <td>1</td>\n",
       "      <td>115</td>\n",
       "      <td>1</td>\n",
       "      <td>1.2</td>\n",
       "      <td>1</td>\n",
       "      <td>1</td>\n",
       "      <td>3</td>\n",
       "      <td>0</td>\n",
       "    </tr>\n",
       "    <tr>\n",
       "      <th>302</th>\n",
       "      <td>57</td>\n",
       "      <td>0</td>\n",
       "      <td>1</td>\n",
       "      <td>130</td>\n",
       "      <td>236</td>\n",
       "      <td>0</td>\n",
       "      <td>0</td>\n",
       "      <td>174</td>\n",
       "      <td>0</td>\n",
       "      <td>0.0</td>\n",
       "      <td>1</td>\n",
       "      <td>1</td>\n",
       "      <td>2</td>\n",
       "      <td>0</td>\n",
       "    </tr>\n",
       "  </tbody>\n",
       "</table>\n",
       "<p>303 rows × 14 columns</p>\n",
       "</div>"
      ],
      "text/plain": [
       "     age  sex  cp  trestbps  chol  fbs  restecg  thalach  exang  oldpeak  \\\n",
       "0     63    1   3       145   233    1        0      150      0      2.3   \n",
       "1     37    1   2       130   250    0        1      187      0      3.5   \n",
       "2     41    0   1       130   204    0        0      172      0      1.4   \n",
       "3     56    1   1       120   236    0        1      178      0      0.8   \n",
       "4     57    0   0       120   354    0        1      163      1      0.6   \n",
       "..   ...  ...  ..       ...   ...  ...      ...      ...    ...      ...   \n",
       "298   57    0   0       140   241    0        1      123      1      0.2   \n",
       "299   45    1   3       110   264    0        1      132      0      1.2   \n",
       "300   68    1   0       144   193    1        1      141      0      3.4   \n",
       "301   57    1   0       130   131    0        1      115      1      1.2   \n",
       "302   57    0   1       130   236    0        0      174      0      0.0   \n",
       "\n",
       "     slope  ca  thal  target  \n",
       "0        0   0     1       1  \n",
       "1        0   0     2       1  \n",
       "2        2   0     2       1  \n",
       "3        2   0     2       1  \n",
       "4        2   0     2       1  \n",
       "..     ...  ..   ...     ...  \n",
       "298      1   0     3       0  \n",
       "299      1   0     3       0  \n",
       "300      1   2     3       0  \n",
       "301      1   1     3       0  \n",
       "302      1   1     2       0  \n",
       "\n",
       "[303 rows x 14 columns]"
      ]
     },
     "execution_count": 4,
     "metadata": {},
     "output_type": "execute_result"
    }
   ],
   "source": [
    "df"
   ]
  },
  {
   "cell_type": "code",
   "execution_count": 5,
   "metadata": {},
   "outputs": [
    {
     "name": "stdout",
     "output_type": "stream",
     "text": [
      "72\n",
      "96\n",
      "male percentage:\n",
      "75.0\n"
     ]
    }
   ],
   "source": [
    "count=0;\n",
    "male=0;\n",
    "for i in range (0,303):\n",
    "    if df['sex'][i]==0 and df['target'][i]==1:\n",
    "        count=count+1\n",
    "        male=male+1\n",
    "    elif df['sex'][i]==0:\n",
    "        male=male+1\n",
    "print(count)\n",
    "print(male)\n",
    "print(\"male percentage:\")\n",
    "print(count/male*100)"
   ]
  },
  {
   "cell_type": "code",
   "execution_count": 6,
   "metadata": {},
   "outputs": [
    {
     "name": "stdout",
     "output_type": "stream",
     "text": [
      "93\n",
      "189\n",
      "female percentage:\n",
      "49.2063492063492\n"
     ]
    }
   ],
   "source": [
    "count=0;\n",
    "male=0;\n",
    "for i in range (0,303):\n",
    "    if df['sex'][i]==1 and df['target'][i]==1:\n",
    "        count=count+1\n",
    "        male=male+1\n",
    "    elif df['sex'][i]==0:\n",
    "        male=male+1\n",
    "print(count)\n",
    "print(male)\n",
    "print(\"female percentage:\")\n",
    "print(count/male*100)"
   ]
  },
  {
   "cell_type": "code",
   "execution_count": 7,
   "metadata": {},
   "outputs": [
    {
     "data": {
      "text/plain": [
       "<matplotlib.legend.Legend at 0x7f0a1341bac8>"
      ]
     },
     "execution_count": 7,
     "metadata": {},
     "output_type": "execute_result"
    },
    {
     "data": {
      "image/png": "[encoded data removed]",
      "text/plain": [
       "<Figure size 720x288 with 1 Axes>"
      ]
     },
     "metadata": {
      "needs_background": "light"
     },
     "output_type": "display_data"
    }
   ],
   "source": [
    "plt.figure(figsize=(10,4))\n",
    "plt.legend(['yes', 'no'],loc='upper left')\n",
    "g = sn.countplot(data = dataset, x = 'age', hue = 'target')\n",
    "g.legend(title = 'Cardiovascular disease', loc='upper left', ncol=1)"
   ]
  },
  {
   "cell_type": "code",
   "execution_count": 8,
   "metadata": {},
   "outputs": [
    {
     "data": {
      "text/plain": [
       "<matplotlib.legend.Legend at 0x7f0a1328a438>"
      ]
     },
     "execution_count": 8,
     "metadata": {},
     "output_type": "execute_result"
    },
    {
     "data": {
      "image/png": "[encoded data removed]",
      "text/plain": [
       "<Figure size 720x288 with 1 Axes>"
      ]
     },
     "metadata": {
      "needs_background": "light"
     },
     "output_type": "display_data"
    }
   ],
   "source": [
    "plt.figure(figsize=(10,4))\n",
    "plt.legend(loc='upper left')\n",
    "g = sn.countplot(data = dataset, x = 'sex', hue = 'target')\n",
    "g.legend(title = 'Cardiovascular disease', loc='upper left', ncol=1)"
   ]
  },
  {
   "cell_type": "code",
   "execution_count": 9,
   "metadata": {},
   "outputs": [
    {
     "data": {
      "image/png": "[encoded data removed]",
      "text/plain": [
       "<Figure size 720x720 with 2 Axes>"
      ]
     },
     "metadata": {
      "needs_background": "light"
     },
     "output_type": "display_data"
    }
   ],
   "source": [
    "fig= plt.figure(figsize=(10,10))\n",
    "sn.heatmap(df.corr(), annot=True,fmt=\".2f\")\n",
    "plt.show()"
   ]
  },
  {
   "cell_type": "code",
   "execution_count": 10,
   "metadata": {},
   "outputs": [],
   "source": [
    "X = df.iloc[:, 0:13].values\n",
    "y = df.iloc[:,13].values"
   ]
  },
  {
   "cell_type": "code",
   "execution_count": 11,
   "metadata": {},
   "outputs": [
    {
     "data": {
      "text/plain": [
       "age          9.082101\n",
       "sex          0.466011\n",
       "cp           1.032052\n",
       "trestbps    17.538143\n",
       "chol        51.830751\n",
       "fbs          0.356198\n",
       "restecg      0.525860\n",
       "thalach     22.905161\n",
       "exang        0.469794\n",
       "oldpeak      1.161075\n",
       "slope        0.616226\n",
       "ca           1.022606\n",
       "thal         0.612277\n",
       "target       0.498835\n",
       "dtype: float64"
      ]
     },
     "execution_count": 11,
     "metadata": {},
     "output_type": "execute_result"
    }
   ],
   "source": [
    "df.std()"
   ]
  },
  {
   "cell_type": "code",
   "execution_count": 12,
   "metadata": {},
   "outputs": [],
   "source": [
    "# Splitting the dataset into the Training set and Test set\n",
    "from sklearn.model_selection import train_test_split\n",
    "X_train, X_test, y_train, y_test = train_test_split(X, y, test_size = 0.25, random_state = 0)"
   ]
  },
  {
   "cell_type": "code",
   "execution_count": 13,
   "metadata": {},
   "outputs": [],
   "source": [
    "# Feature Scaling\n",
    "from sklearn.preprocessing import StandardScaler\n",
    "sc = StandardScaler()\n",
    "X_train = sc.fit_transform(X_train)\n",
    "X_test = sc.transform(X_test)"
   ]
  },
  {
   "cell_type": "code",
   "execution_count": 14,
   "metadata": {},
   "outputs": [],
   "source": [
    "newdata=[]"
   ]
  },
  {
   "cell_type": "code",
   "execution_count": 15,
   "metadata": {},
   "outputs": [
    {
     "name": "stdout",
     "output_type": "stream",
     "text": [
      " N= 1, Accuracy 78.95%\n",
      " N= 2, Accuracy 77.63%\n",
      " N= 3, Accuracy 84.21%\n",
      " N= 4, Accuracy 84.21%\n",
      " N= 5, Accuracy 81.58%\n",
      " N= 6, Accuracy 85.53%\n",
      " N= 7, Accuracy 86.84%\n",
      " N= 8, Accuracy 86.84%\n",
      " N= 9, Accuracy 85.53%\n",
      " N= 10, Accuracy 85.53%\n",
      " N= 11, Accuracy 84.21%\n",
      " N= 12, Accuracy 84.21%\n",
      " N= 13, Accuracy 82.89%\n",
      " N= 14, Accuracy 82.89%\n",
      " N= 15, Accuracy 82.89%\n",
      " N= 16, Accuracy 81.58%\n",
      " N= 17, Accuracy 82.89%\n",
      " N= 18, Accuracy 81.58%\n",
      " N= 19, Accuracy 81.58%\n",
      " N= 20, Accuracy 81.58%\n"
     ]
    },
    {
     "data": {
      "image/png": "[encoded data removed]",
      "text/plain": [
       "<Figure size 432x288 with 1 Axes>"
      ]
     },
     "metadata": {
      "needs_background": "light"
     },
     "output_type": "display_data"
    }
   ],
   "source": [
    "from sklearn.neighbors import KNeighborsClassifier\n",
    "accuracy=[]\n",
    "for i in range(1,21):\n",
    "    knn = KNeighborsClassifier(n_neighbors = i)  # n_neighbors means k\n",
    "    knn.fit(X_train, y_train)\n",
    "    y_pred_knn = knn.predict(X_test)\n",
    "    accuracy.append(accuracy_score(y_test, y_pred_knn))\n",
    "    print(\" N= {}, Accuracy {:.2f}%\".format(i,accuracy_score(y_test, y_pred_knn)*100))\n",
    "   \n",
    "plt.plot(range(1,21),accuracy)\n",
    "plt.xticks(np.arange(1,21,1))\n",
    "plt.show()"
   ]
  },
  {
   "cell_type": "code",
   "execution_count": 16,
   "metadata": {},
   "outputs": [
    {
     "name": "stdout",
     "output_type": "stream",
     "text": [
      "KNNClassifier\n",
      "Accuracy: 86.84%\n",
      "              precision    recall  f1-score   support\n",
      "\n",
      "           0       0.90      0.79      0.84        33\n",
      "           1       0.85      0.93      0.89        43\n",
      "\n",
      "    accuracy                           0.87        76\n",
      "   macro avg       0.87      0.86      0.86        76\n",
      "weighted avg       0.87      0.87      0.87        76\n",
      "\n"
     ]
    }
   ],
   "source": [
    "knn = KNeighborsClassifier(n_neighbors = 7)  # n_neighbors means k\n",
    "knn.fit(X_train, y_train)\n",
    "y_pred_knn = knn.predict(X_test)\n",
    "print(\"KNNClassifier\")\n",
    "print(\"Accuracy: {:.2f}%\".format(accuracy_score(y_test, y_pred_knn)*100))\n",
    "print(classification_report(y_test, y_pred_knn))"
   ]
  },
  {
   "cell_type": "code",
   "execution_count": 17,
   "metadata": {},
   "outputs": [
    {
     "name": "stdout",
     "output_type": "stream",
     "text": [
      "RandomForestClassifier\n",
      "Accuracy: 85.53%\n",
      "              precision    recall  f1-score   support\n",
      "\n",
      "           0       0.89      0.76      0.82        33\n",
      "           1       0.83      0.93      0.88        43\n",
      "\n",
      "    accuracy                           0.86        76\n",
      "   macro avg       0.86      0.84      0.85        76\n",
      "weighted avg       0.86      0.86      0.85        76\n",
      "\n"
     ]
    }
   ],
   "source": [
    "from sklearn.ensemble  import RandomForestClassifier\n",
    "RF = RandomForestClassifier(n_estimators=100, criterion='entropy', random_state=0)  \n",
    "RF.fit(X_train, y_train)\n",
    "y_pred_RF = RF.predict(X_test)\n",
    "print(\"RandomForestClassifier\")\n",
    "print(\"Accuracy: {:.2f}%\".format(accuracy_score(y_test, y_pred_RF)*100))\n",
    "print(classification_report(y_test, y_pred_RF))"
   ]
  },
  {
   "cell_type": "code",
   "execution_count": 18,
   "metadata": {},
   "outputs": [
    {
     "name": "stdout",
     "output_type": "stream",
     "text": [
      "DecisionTreeClassifier\n",
      "Accuracy: 77.63%\n",
      "              precision    recall  f1-score   support\n",
      "\n",
      "           0       0.74      0.76      0.75        33\n",
      "           1       0.81      0.79      0.80        43\n",
      "\n",
      "    accuracy                           0.78        76\n",
      "   macro avg       0.77      0.77      0.77        76\n",
      "weighted avg       0.78      0.78      0.78        76\n",
      "\n"
     ]
    }
   ],
   "source": [
    "from sklearn.tree import DecisionTreeClassifier\n",
    "dtclassifier= DecisionTreeClassifier(criterion='entropy')\n",
    "dtclassifier.fit(X_train,y_train)\n",
    "y_pred_DT = dtclassifier.predict(X_test)\n",
    "print(\"DecisionTreeClassifier\")\n",
    "print(\"Accuracy: {:.2f}%\".format(accuracy_score(y_test, y_pred_DT)*100))\n",
    "print(classification_report(y_test, y_pred_DT))"
   ]
  },
  {
   "cell_type": "code",
   "execution_count": 19,
   "metadata": {},
   "outputs": [
    {
     "name": "stdout",
     "output_type": "stream",
     "text": [
      "GaussianNB\n",
      "Accuracy: 82.89%\n",
      "              precision    recall  f1-score   support\n",
      "\n",
      "           0       0.86      0.73      0.79        33\n",
      "           1       0.81      0.91      0.86        43\n",
      "\n",
      "    accuracy                           0.83        76\n",
      "   macro avg       0.83      0.82      0.82        76\n",
      "weighted avg       0.83      0.83      0.83        76\n",
      "\n"
     ]
    }
   ],
   "source": [
    "from sklearn.naive_bayes import GaussianNB\n",
    "nbclassifier=GaussianNB()\n",
    "nbclassifier.fit(X_train, y_train)\n",
    "nb_y_pred = nbclassifier.predict(X_test)\n",
    "print(\"GaussianNB\")\n",
    "print(\"Accuracy: {:.2f}%\".format(accuracy_score(y_test, nb_y_pred)*100))\n",
    "print(classification_report(y_test, nb_y_pred))"
   ]
  },
  {
   "cell_type": "code",
   "execution_count": 20,
   "metadata": {},
   "outputs": [
    {
     "name": "stdout",
     "output_type": "stream",
     "text": [
      "svmkclassifier\n",
      "Accuracy: 85.53%\n",
      "              precision    recall  f1-score   support\n",
      "\n",
      "           0       0.89      0.76      0.82        33\n",
      "           1       0.83      0.93      0.88        43\n",
      "\n",
      "    accuracy                           0.86        76\n",
      "   macro avg       0.86      0.84      0.85        76\n",
      "weighted avg       0.86      0.86      0.85        76\n",
      "\n"
     ]
    }
   ],
   "source": [
    "svmkclassifier =SVC(kernel ='rbf',random_state=0,gamma='auto')\n",
    "svmkclassifier.fit(X_train, y_train)\n",
    "y_pred_SVMK = svmkclassifier.predict(X_test)\n",
    "print(\"svmkclassifier\")\n",
    "print(\"Accuracy: {:.2f}%\".format(accuracy_score(y_test, y_pred_SVMK)*100))\n",
    "print(classification_report(y_test, y_pred_SVMK))"
   ]
  },
  {
   "cell_type": "code",
   "execution_count": 21,
   "metadata": {},
   "outputs": [
    {
     "name": "stdout",
     "output_type": "stream",
     "text": [
      "BaggingClassifier\n",
      "Accuracy: 82.89%\n",
      "              precision    recall  f1-score   support\n",
      "\n",
      "           0       0.86      0.73      0.79        33\n",
      "           1       0.81      0.91      0.86        43\n",
      "\n",
      "    accuracy                           0.83        76\n",
      "   macro avg       0.83      0.82      0.82        76\n",
      "weighted avg       0.83      0.83      0.83        76\n",
      "\n"
     ]
    }
   ],
   "source": [
    "bg=BaggingClassifier(base_estimator=DecisionTreeClassifier(), n_estimators=100, random_state=15)\n",
    "bg.fit(X_train, y_train)\n",
    "y_pred_bg = bg.predict(X_test)\n",
    "print(\"BaggingClassifier\")\n",
    "print(\"Accuracy: {:.2f}%\".format(accuracy_score(y_test, y_pred_bg)*100))\n",
    "print(classification_report(y_test, y_pred_bg))"
   ]
  },
  {
   "cell_type": "code",
   "execution_count": 22,
   "metadata": {},
   "outputs": [
    {
     "name": "stdout",
     "output_type": "stream",
     "text": [
      "ExtraTreesClassifier\n",
      "Accuracy: 82.89%\n",
      "              precision    recall  f1-score   support\n",
      "\n",
      "           0       0.83      0.76      0.79        33\n",
      "           1       0.83      0.88      0.85        43\n",
      "\n",
      "    accuracy                           0.83        76\n",
      "   macro avg       0.83      0.82      0.82        76\n",
      "weighted avg       0.83      0.83      0.83        76\n",
      "\n"
     ]
    }
   ],
   "source": [
    "et=ExtraTreesClassifier(n_estimators=100, max_features=4)\n",
    "et.fit(X_train, y_train)\n",
    "y_pred_et = et.predict(X_test)\n",
    "print(\"ExtraTreesClassifier\")\n",
    "print(\"Accuracy: {:.2f}%\".format(accuracy_score(y_test, y_pred_et)*100))\n",
    "print(classification_report(y_test, y_pred_et))"
   ]
  },
  {
   "cell_type": "code",
   "execution_count": 23,
   "metadata": {},
   "outputs": [
    {
     "name": "stdout",
     "output_type": "stream",
     "text": [
      "AdaBoostClassifier\n",
      "Accuracy: 84.21%\n",
      "              precision    recall  f1-score   support\n",
      "\n",
      "           0       0.84      0.79      0.81        33\n",
      "           1       0.84      0.88      0.86        43\n",
      "\n",
      "    accuracy                           0.84        76\n",
      "   macro avg       0.84      0.84      0.84        76\n",
      "weighted avg       0.84      0.84      0.84        76\n",
      "\n"
     ]
    }
   ],
   "source": [
    "adb=AdaBoostClassifier(n_estimators=50, random_state=4)\n",
    "adb.fit(X_train, y_train)\n",
    "y_pred_adb = adb.predict(X_test)\n",
    "print(\"AdaBoostClassifier\")\n",
    "print(\"Accuracy: {:.2f}%\".format(accuracy_score(y_test, y_pred_adb)*100))\n",
    "print(classification_report(y_test, y_pred_adb))"
   ]
  },
  {
   "cell_type": "code",
   "execution_count": 24,
   "metadata": {},
   "outputs": [
    {
     "name": "stdout",
     "output_type": "stream",
     "text": [
      "GradientBoostingClassifier\n",
      "Accuracy: 81.58%\n",
      "              precision    recall  f1-score   support\n",
      "\n",
      "           0       0.76      0.85      0.80        33\n",
      "           1       0.87      0.79      0.83        43\n",
      "\n",
      "    accuracy                           0.82        76\n",
      "   macro avg       0.81      0.82      0.81        76\n",
      "weighted avg       0.82      0.82      0.82        76\n",
      "\n"
     ]
    }
   ],
   "source": [
    "gb=GradientBoostingClassifier(n_estimators=1000, random_state=4)\n",
    "gb.fit(X_train, y_train)\n",
    "y_pred_gb = gb.predict(X_test)\n",
    "print(\"GradientBoostingClassifier\")\n",
    "print(\"Accuracy: {:.2f}%\".format(accuracy_score(y_test, y_pred_gb)*100))\n",
    "print(classification_report(y_test, y_pred_gb))"
   ]
  },
  {
   "cell_type": "code",
   "execution_count": 25,
   "metadata": {},
   "outputs": [],
   "source": [
    "newdata=pd.DataFrame({\"knn\":y_pred_knn,\"rf\":y_pred_RF,\"GB\":y_pred_gb,\"ADB\":y_pred_adb,\"ET\":y_pred_et,\"BG\":y_pred_bg,\"SVM\":y_pred_SVMK,\"nb\":nb_y_pred,\"DT\":y_pred_DT})"
   ]
  },
  {
   "cell_type": "code",
   "execution_count": 26,
   "metadata": {},
   "outputs": [
    {
     "name": "stdout",
     "output_type": "stream",
     "text": [
      "    knn  rf  GB  ADB  ET  BG  SVM  nb  DT\n",
      "0     0   0   0    0   0   0    0   0   0\n",
      "1     1   1   1    1   0   1    1   1   1\n",
      "2     0   1   1    1   1   1    1   1   1\n",
      "3     0   0   0    0   0   0    0   0   0\n",
      "4     0   0   0    0   0   0    0   0   1\n",
      "..  ...  ..  ..  ...  ..  ..  ...  ..  ..\n",
      "71    1   1   1    1   1   1    1   1   1\n",
      "72    1   1   1    1   1   1    1   1   1\n",
      "73    0   0   0    0   0   0    0   0   0\n",
      "74    0   0   0    0   0   0    0   0   0\n",
      "75    1   1   0    1   0   1    1   1   0\n",
      "\n",
      "[76 rows x 9 columns]\n"
     ]
    }
   ],
   "source": [
    "print(newdata)"
   ]
  },
  {
   "cell_type": "code",
   "execution_count": 27,
   "metadata": {},
   "outputs": [],
   "source": [
    "x_test=X_test.reshape(76,13,1)\n",
    "x_train=X_train.reshape(227,13,1)\n",
    "X_test1=X_test\n",
    "X_train1=X_train\n",
    "y_test1=y_test\n",
    "y_train1=y_train"
   ]
  },
  {
   "cell_type": "code",
   "execution_count": 28,
   "metadata": {},
   "outputs": [],
   "source": [
    "X_train, X_test, y_train, y_test = train_test_split(newdata, y_test, test_size = 0.25, random_state = 0)"
   ]
  },
  {
   "cell_type": "code",
   "execution_count": 29,
   "metadata": {},
   "outputs": [
    {
     "name": "stdout",
     "output_type": "stream",
     "text": [
      "RandomForestClassifier  with secondary data\n",
      "Accuracy: 84.21%\n",
      "              precision    recall  f1-score   support\n",
      "\n",
      "           0       0.80      0.67      0.73         6\n",
      "           1       0.86      0.92      0.89        13\n",
      "\n",
      "    accuracy                           0.84        19\n",
      "   macro avg       0.83      0.79      0.81        19\n",
      "weighted avg       0.84      0.84      0.84        19\n",
      "\n"
     ]
    }
   ],
   "source": [
    "from sklearn.ensemble  import RandomForestClassifier\n",
    "RF = RandomForestClassifier(n_estimators=100, criterion='entropy', random_state=0)  \n",
    "RF.fit(X_train, y_train)\n",
    "y_pred_RF = RF.predict(X_test)\n",
    "print(\"RandomForestClassifier  with secondary data\")\n",
    "print(\"Accuracy: {:.2f}%\".format(accuracy_score(y_test, y_pred_RF)*100))\n",
    "print(classification_report(y_test, y_pred_RF))"
   ]
  },
  {
   "cell_type": "code",
   "execution_count": 30,
   "metadata": {},
   "outputs": [
    {
     "name": "stdout",
     "output_type": "stream",
     "text": [
      "DecisionTreeClassifier  with secondary data\n",
      "Accuracy: 84.21%\n",
      "              precision    recall  f1-score   support\n",
      "\n",
      "           0       0.80      0.67      0.73         6\n",
      "           1       0.86      0.92      0.89        13\n",
      "\n",
      "    accuracy                           0.84        19\n",
      "   macro avg       0.83      0.79      0.81        19\n",
      "weighted avg       0.84      0.84      0.84        19\n",
      "\n"
     ]
    }
   ],
   "source": [
    "from sklearn.tree import DecisionTreeClassifier\n",
    "dtclassifier= DecisionTreeClassifier(criterion='entropy')\n",
    "dtclassifier.fit(X_train,y_train)\n",
    "y_pred_DT = dtclassifier.predict(X_test)\n",
    "print(\"DecisionTreeClassifier  with secondary data\")\n",
    "print(\"Accuracy: {:.2f}%\".format(accuracy_score(y_test, y_pred_DT)*100))\n",
    "print(classification_report(y_test, y_pred_DT))"
   ]
  },
  {
   "cell_type": "code",
   "execution_count": 31,
   "metadata": {},
   "outputs": [
    {
     "name": "stdout",
     "output_type": "stream",
     "text": [
      "GaussianNB  with secondary data\n",
      "Accuracy: 94.74%\n",
      "              precision    recall  f1-score   support\n",
      "\n",
      "           0       1.00      0.83      0.91         6\n",
      "           1       0.93      1.00      0.96        13\n",
      "\n",
      "    accuracy                           0.95        19\n",
      "   macro avg       0.96      0.92      0.94        19\n",
      "weighted avg       0.95      0.95      0.95        19\n",
      "\n"
     ]
    }
   ],
   "source": [
    "from sklearn.naive_bayes import GaussianNB\n",
    "nbclassifier=GaussianNB()\n",
    "nbclassifier.fit(X_train, y_train)\n",
    "nb_y_pred = nbclassifier.predict(X_test)\n",
    "print(\"GaussianNB  with secondary data\")\n",
    "print(\"Accuracy: {:.2f}%\".format(accuracy_score(y_test, nb_y_pred)*100))\n",
    "print(classification_report(y_test, nb_y_pred))"
   ]
  },
  {
   "cell_type": "code",
   "execution_count": 32,
   "metadata": {},
   "outputs": [
    {
     "name": "stdout",
     "output_type": "stream",
     "text": [
      "svmkclassifier  with secondary data\n",
      "Accuracy: 94.74%\n",
      "              precision    recall  f1-score   support\n",
      "\n",
      "           0       1.00      0.83      0.91         6\n",
      "           1       0.93      1.00      0.96        13\n",
      "\n",
      "    accuracy                           0.95        19\n",
      "   macro avg       0.96      0.92      0.94        19\n",
      "weighted avg       0.95      0.95      0.95        19\n",
      "\n",
      "[[ 5  1]\n",
      " [ 0 13]]\n"
     ]
    }
   ],
   "source": [
    "svmkclassifier =SVC(kernel ='rbf',random_state=0,gamma='auto')\n",
    "svmkclassifier.fit(X_train, y_train)\n",
    "y_pred_SVMK = svmkclassifier.predict(X_test)\n",
    "print(\"svmkclassifier  with secondary data\")\n",
    "print(\"Accuracy: {:.2f}%\".format(accuracy_score(y_test, y_pred_SVMK)*100))\n",
    "print(classification_report(y_test, y_pred_SVMK))\n",
    "print( confusion_matrix(y_test, y_pred_SVMK))"
   ]
  },
  {
   "cell_type": "code",
   "execution_count": 33,
   "metadata": {},
   "outputs": [
    {
     "name": "stdout",
     "output_type": "stream",
     "text": [
      "BaggingClassifier  with secondary data\n",
      "Accuracy: 84.21%\n",
      "              precision    recall  f1-score   support\n",
      "\n",
      "           0       0.80      0.67      0.73         6\n",
      "           1       0.86      0.92      0.89        13\n",
      "\n",
      "    accuracy                           0.84        19\n",
      "   macro avg       0.83      0.79      0.81        19\n",
      "weighted avg       0.84      0.84      0.84        19\n",
      "\n"
     ]
    }
   ],
   "source": [
    "bg=BaggingClassifier(base_estimator=DecisionTreeClassifier(), n_estimators=100, random_state=15)\n",
    "bg.fit(X_train, y_train)\n",
    "y_pred_bg = bg.predict(X_test)\n",
    "print(\"BaggingClassifier  with secondary data\")\n",
    "print(\"Accuracy: {:.2f}%\".format(accuracy_score(y_test, y_pred_bg)*100))\n",
    "print(classification_report(y_test, y_pred_bg))"
   ]
  },
  {
   "cell_type": "code",
   "execution_count": 34,
   "metadata": {},
   "outputs": [
    {
     "name": "stdout",
     "output_type": "stream",
     "text": [
      "ExtraTreesClassifier  with secondary data\n",
      "Accuracy: 84.21%\n",
      "              precision    recall  f1-score   support\n",
      "\n",
      "           0       0.80      0.67      0.73         6\n",
      "           1       0.86      0.92      0.89        13\n",
      "\n",
      "    accuracy                           0.84        19\n",
      "   macro avg       0.83      0.79      0.81        19\n",
      "weighted avg       0.84      0.84      0.84        19\n",
      "\n"
     ]
    }
   ],
   "source": [
    "et=ExtraTreesClassifier(n_estimators=100, max_features=4)\n",
    "et.fit(X_train, y_train)\n",
    "y_pred_et = et.predict(X_test)\n",
    "print(\"ExtraTreesClassifier  with secondary data\")\n",
    "print(\"Accuracy: {:.2f}%\".format(accuracy_score(y_test, y_pred_et)*100))\n",
    "print(classification_report(y_test, y_pred_et))"
   ]
  },
  {
   "cell_type": "code",
   "execution_count": 35,
   "metadata": {},
   "outputs": [
    {
     "name": "stdout",
     "output_type": "stream",
     "text": [
      "AdaBoostClassifier with secondary data\n",
      "Accuracy: 84.21%\n",
      "              precision    recall  f1-score   support\n",
      "\n",
      "           0       0.80      0.67      0.73         6\n",
      "           1       0.86      0.92      0.89        13\n",
      "\n",
      "    accuracy                           0.84        19\n",
      "   macro avg       0.83      0.79      0.81        19\n",
      "weighted avg       0.84      0.84      0.84        19\n",
      "\n"
     ]
    }
   ],
   "source": [
    "adb=AdaBoostClassifier(n_estimators=50, random_state=4)\n",
    "adb.fit(X_train, y_train)\n",
    "y_pred_adb = adb.predict(X_test)\n",
    "print(\"AdaBoostClassifier with secondary data\")\n",
    "print(\"Accuracy: {:.2f}%\".format(accuracy_score(y_test, y_pred_adb)*100))\n",
    "print(classification_report(y_test, y_pred_adb))"
   ]
  },
  {
   "cell_type": "code",
   "execution_count": 36,
   "metadata": {},
   "outputs": [
    {
     "name": "stdout",
     "output_type": "stream",
     "text": [
      "GradientBoostingClassifier with secondary data\n",
      "Accuracy: 89.47%\n",
      "              precision    recall  f1-score   support\n",
      "\n",
      "           0       1.00      0.67      0.80         6\n",
      "           1       0.87      1.00      0.93        13\n",
      "\n",
      "    accuracy                           0.89        19\n",
      "   macro avg       0.93      0.83      0.86        19\n",
      "weighted avg       0.91      0.89      0.89        19\n",
      "\n"
     ]
    }
   ],
   "source": [
    "gb=GradientBoostingClassifier(n_estimators=1000, random_state=4)\n",
    "gb.fit(X_train, y_train)\n",
    "y_pred_gb = gb.predict(X_test)\n",
    "print(\"GradientBoostingClassifier with secondary data\")\n",
    "print(\"Accuracy: {:.2f}%\".format(accuracy_score(y_test, y_pred_gb)*100))\n",
    "print(classification_report(y_test, y_pred_gb))"
   ]
  },
  {
   "cell_type": "code",
   "execution_count": 37,
   "metadata": {},
   "outputs": [
    {
     "name": "stderr",
     "output_type": "stream",
     "text": [
      "/opt/conda/lib/python3.6/site-packages/ipykernel_launcher.py:4: UserWarning:\n",
      "\n",
      "Update your `LSTM` call to the Keras 2 API: `LSTM(activation=\"sigmoid\", return_sequences=True, units=256, recurrent_activation=\"hard_sigmoid\")`\n",
      "\n",
      "/opt/conda/lib/python3.6/site-packages/ipykernel_launcher.py:6: UserWarning:\n",
      "\n",
      "Update your `LSTM` call to the Keras 2 API: `LSTM(activation=\"sigmoid\", units=256, recurrent_activation=\"hard_sigmoid\")`\n",
      "\n",
      "/opt/conda/lib/python3.6/site-packages/ipykernel_launcher.py:10: UserWarning:\n",
      "\n",
      "The `nb_epoch` argument in `fit` has been renamed `epochs`.\n",
      "\n"
     ]
    },
    {
     "name": "stdout",
     "output_type": "stream",
     "text": [
      "Train on 227 samples, validate on 76 samples\n",
      "Epoch 1/100\n",
      "227/227 [==============================] - 3s 13ms/step - loss: 0.7581 - accuracy: 0.5154 - val_loss: 0.7353 - val_accuracy: 0.5658\n",
      "Epoch 2/100\n",
      "227/227 [==============================] - 1s 6ms/step - loss: 0.7138 - accuracy: 0.5198 - val_loss: 0.7199 - val_accuracy: 0.5658\n",
      "Epoch 3/100\n",
      "227/227 [==============================] - 1s 6ms/step - loss: 0.7344 - accuracy: 0.4714 - val_loss: 0.6945 - val_accuracy: 0.4342\n",
      "Epoch 4/100\n",
      "227/227 [==============================] - 1s 6ms/step - loss: 0.7177 - accuracy: 0.4802 - val_loss: 0.6884 - val_accuracy: 0.5263\n",
      "Epoch 5/100\n",
      "227/227 [==============================] - 1s 6ms/step - loss: 0.7159 - accuracy: 0.4846 - val_loss: 0.6788 - val_accuracy: 0.5658\n",
      "Epoch 6/100\n",
      "227/227 [==============================] - 1s 6ms/step - loss: 0.7207 - accuracy: 0.4581 - val_loss: 0.6831 - val_accuracy: 0.5658\n",
      "Epoch 7/100\n",
      "227/227 [==============================] - 1s 6ms/step - loss: 0.7154 - accuracy: 0.5066 - val_loss: 0.6776 - val_accuracy: 0.5658\n",
      "Epoch 8/100\n",
      "227/227 [==============================] - 1s 6ms/step - loss: 0.6994 - accuracy: 0.5330 - val_loss: 0.6859 - val_accuracy: 0.5658\n",
      "Epoch 9/100\n",
      "227/227 [==============================] - 1s 6ms/step - loss: 0.6944 - accuracy: 0.5463 - val_loss: 0.6708 - val_accuracy: 0.7500\n",
      "Epoch 10/100\n",
      "227/227 [==============================] - 1s 6ms/step - loss: 0.7064 - accuracy: 0.5286 - val_loss: 0.6674 - val_accuracy: 0.7500\n",
      "Epoch 11/100\n",
      "227/227 [==============================] - 1s 6ms/step - loss: 0.6932 - accuracy: 0.5154 - val_loss: 0.6463 - val_accuracy: 0.5526\n",
      "Epoch 12/100\n",
      "227/227 [==============================] - 1s 6ms/step - loss: 0.6668 - accuracy: 0.5815 - val_loss: 0.6477 - val_accuracy: 0.7500\n",
      "Epoch 13/100\n",
      "227/227 [==============================] - 1s 6ms/step - loss: 0.6529 - accuracy: 0.5947 - val_loss: 0.6046 - val_accuracy: 0.7895\n",
      "Epoch 14/100\n",
      "227/227 [==============================] - 1s 6ms/step - loss: 0.5913 - accuracy: 0.6916 - val_loss: 0.5072 - val_accuracy: 0.7500\n",
      "Epoch 15/100\n",
      "227/227 [==============================] - 1s 6ms/step - loss: 0.5148 - accuracy: 0.7621 - val_loss: 0.4643 - val_accuracy: 0.8026\n",
      "Epoch 16/100\n",
      "227/227 [==============================] - 1s 6ms/step - loss: 0.4776 - accuracy: 0.7885 - val_loss: 0.4750 - val_accuracy: 0.7763\n",
      "Epoch 17/100\n",
      "227/227 [==============================] - 1s 6ms/step - loss: 0.4993 - accuracy: 0.7665 - val_loss: 0.4484 - val_accuracy: 0.7500\n",
      "Epoch 18/100\n",
      "227/227 [==============================] - 1s 6ms/step - loss: 0.4683 - accuracy: 0.7709 - val_loss: 0.4407 - val_accuracy: 0.7763\n",
      "Epoch 19/100\n",
      "227/227 [==============================] - 1s 6ms/step - loss: 0.4880 - accuracy: 0.7621 - val_loss: 0.4593 - val_accuracy: 0.7895\n",
      "Epoch 20/100\n",
      "227/227 [==============================] - 1s 6ms/step - loss: 0.4921 - accuracy: 0.7841 - val_loss: 0.4965 - val_accuracy: 0.7632\n",
      "Epoch 21/100\n",
      "227/227 [==============================] - 1s 6ms/step - loss: 0.4873 - accuracy: 0.7797 - val_loss: 0.4366 - val_accuracy: 0.7895\n",
      "Epoch 22/100\n",
      "227/227 [==============================] - 1s 6ms/step - loss: 0.4870 - accuracy: 0.7797 - val_loss: 0.4379 - val_accuracy: 0.8158\n",
      "Epoch 23/100\n",
      "227/227 [==============================] - 1s 6ms/step - loss: 0.4824 - accuracy: 0.7753 - val_loss: 0.4442 - val_accuracy: 0.7895\n",
      "Epoch 24/100\n",
      "227/227 [==============================] - 1s 6ms/step - loss: 0.4694 - accuracy: 0.7930 - val_loss: 0.4432 - val_accuracy: 0.8026\n",
      "Epoch 25/100\n",
      "227/227 [==============================] - 1s 6ms/step - loss: 0.4587 - accuracy: 0.7974 - val_loss: 0.4515 - val_accuracy: 0.7895\n",
      "Epoch 26/100\n",
      "227/227 [==============================] - 1s 6ms/step - loss: 0.4822 - accuracy: 0.7930 - val_loss: 0.4459 - val_accuracy: 0.7632\n",
      "Epoch 27/100\n",
      "227/227 [==============================] - 1s 6ms/step - loss: 0.4858 - accuracy: 0.7753 - val_loss: 0.4232 - val_accuracy: 0.7895\n",
      "Epoch 28/100\n",
      "227/227 [==============================] - 1s 6ms/step - loss: 0.4545 - accuracy: 0.7885 - val_loss: 0.4331 - val_accuracy: 0.8026\n",
      "Epoch 29/100\n",
      "227/227 [==============================] - 1s 6ms/step - loss: 0.4574 - accuracy: 0.7974 - val_loss: 0.4190 - val_accuracy: 0.7895\n",
      "Epoch 30/100\n",
      "227/227 [==============================] - 1s 6ms/step - loss: 0.4999 - accuracy: 0.7533 - val_loss: 0.4314 - val_accuracy: 0.8026\n",
      "Epoch 31/100\n",
      "227/227 [==============================] - 1s 6ms/step - loss: 0.4535 - accuracy: 0.8018 - val_loss: 0.5044 - val_accuracy: 0.7500\n",
      "Epoch 32/100\n",
      "227/227 [==============================] - 1s 6ms/step - loss: 0.4551 - accuracy: 0.7930 - val_loss: 0.4308 - val_accuracy: 0.8026\n",
      "Epoch 33/100\n",
      "227/227 [==============================] - 1s 6ms/step - loss: 0.4620 - accuracy: 0.8150 - val_loss: 0.4264 - val_accuracy: 0.8026\n",
      "Epoch 34/100\n",
      "227/227 [==============================] - 1s 6ms/step - loss: 0.4371 - accuracy: 0.8018 - val_loss: 0.4215 - val_accuracy: 0.7895\n",
      "Epoch 35/100\n",
      "227/227 [==============================] - 1s 6ms/step - loss: 0.4635 - accuracy: 0.7974 - val_loss: 0.4171 - val_accuracy: 0.8026\n",
      "Epoch 36/100\n",
      "227/227 [==============================] - 1s 6ms/step - loss: 0.4379 - accuracy: 0.8150 - val_loss: 0.4137 - val_accuracy: 0.8026\n",
      "Epoch 37/100\n",
      "227/227 [==============================] - 1s 6ms/step - loss: 0.4542 - accuracy: 0.7885 - val_loss: 0.4226 - val_accuracy: 0.8026\n",
      "Epoch 38/100\n",
      "227/227 [==============================] - 1s 6ms/step - loss: 0.4416 - accuracy: 0.8062 - val_loss: 0.4413 - val_accuracy: 0.8026\n",
      "Epoch 39/100\n",
      "227/227 [==============================] - 1s 6ms/step - loss: 0.4257 - accuracy: 0.8194 - val_loss: 0.4186 - val_accuracy: 0.8026\n",
      "Epoch 40/100\n",
      "227/227 [==============================] - 1s 6ms/step - loss: 0.4449 - accuracy: 0.8150 - val_loss: 0.4120 - val_accuracy: 0.8026\n",
      "Epoch 41/100\n",
      "227/227 [==============================] - 1s 6ms/step - loss: 0.4242 - accuracy: 0.8106 - val_loss: 0.4364 - val_accuracy: 0.7895\n",
      "Epoch 42/100\n",
      "227/227 [==============================] - 1s 6ms/step - loss: 0.4199 - accuracy: 0.8326 - val_loss: 0.4398 - val_accuracy: 0.8158\n",
      "Epoch 43/100\n",
      "227/227 [==============================] - 1s 6ms/step - loss: 0.4391 - accuracy: 0.7841 - val_loss: 0.4600 - val_accuracy: 0.8158\n",
      "Epoch 44/100\n",
      "227/227 [==============================] - 1s 6ms/step - loss: 0.4231 - accuracy: 0.7885 - val_loss: 0.4186 - val_accuracy: 0.7632\n",
      "Epoch 45/100\n",
      "227/227 [==============================] - 1s 6ms/step - loss: 0.4160 - accuracy: 0.8018 - val_loss: 0.4056 - val_accuracy: 0.7632\n",
      "Epoch 46/100\n",
      "227/227 [==============================] - 1s 6ms/step - loss: 0.4324 - accuracy: 0.8150 - val_loss: 0.4102 - val_accuracy: 0.8026\n",
      "Epoch 47/100\n",
      "227/227 [==============================] - 1s 6ms/step - loss: 0.4332 - accuracy: 0.7797 - val_loss: 0.4374 - val_accuracy: 0.7632\n",
      "Epoch 48/100\n",
      "227/227 [==============================] - 1s 6ms/step - loss: 0.4280 - accuracy: 0.7885 - val_loss: 0.3939 - val_accuracy: 0.8026\n",
      "Epoch 49/100\n",
      "227/227 [==============================] - 1s 6ms/step - loss: 0.4110 - accuracy: 0.8106 - val_loss: 0.3928 - val_accuracy: 0.7632\n",
      "Epoch 50/100\n",
      "227/227 [==============================] - 1s 6ms/step - loss: 0.4095 - accuracy: 0.8062 - val_loss: 0.4161 - val_accuracy: 0.7895\n",
      "Epoch 51/100\n",
      "227/227 [==============================] - 1s 6ms/step - loss: 0.4021 - accuracy: 0.8370 - val_loss: 0.3941 - val_accuracy: 0.7632\n",
      "Epoch 52/100\n",
      "227/227 [==============================] - 1s 6ms/step - loss: 0.3941 - accuracy: 0.8194 - val_loss: 0.4640 - val_accuracy: 0.7763\n",
      "Epoch 53/100\n",
      "227/227 [==============================] - 1s 6ms/step - loss: 0.4328 - accuracy: 0.8106 - val_loss: 0.3848 - val_accuracy: 0.7763\n",
      "Epoch 54/100\n",
      "227/227 [==============================] - 1s 6ms/step - loss: 0.3735 - accuracy: 0.8502 - val_loss: 0.4504 - val_accuracy: 0.7763\n",
      "Epoch 55/100\n",
      "227/227 [==============================] - 1s 6ms/step - loss: 0.4215 - accuracy: 0.7974 - val_loss: 0.4039 - val_accuracy: 0.7632\n",
      "Epoch 56/100\n",
      "227/227 [==============================] - 1s 6ms/step - loss: 0.4274 - accuracy: 0.8282 - val_loss: 0.4149 - val_accuracy: 0.7763\n",
      "Epoch 57/100\n",
      "227/227 [==============================] - 1s 6ms/step - loss: 0.4026 - accuracy: 0.8458 - val_loss: 0.4053 - val_accuracy: 0.8026\n",
      "Epoch 58/100\n",
      "227/227 [==============================] - 1s 6ms/step - loss: 0.3796 - accuracy: 0.8502 - val_loss: 0.3876 - val_accuracy: 0.7895\n",
      "Epoch 59/100\n",
      "227/227 [==============================] - 1s 6ms/step - loss: 0.4068 - accuracy: 0.8458 - val_loss: 0.4287 - val_accuracy: 0.7763\n",
      "Epoch 60/100\n",
      "227/227 [==============================] - 1s 6ms/step - loss: 0.3939 - accuracy: 0.8326 - val_loss: 0.4615 - val_accuracy: 0.7632\n",
      "Epoch 61/100\n",
      "227/227 [==============================] - 1s 6ms/step - loss: 0.4023 - accuracy: 0.8238 - val_loss: 0.4437 - val_accuracy: 0.7763\n",
      "Epoch 62/100\n",
      "227/227 [==============================] - 1s 6ms/step - loss: 0.3931 - accuracy: 0.8326 - val_loss: 0.3947 - val_accuracy: 0.7895\n",
      "Epoch 63/100\n",
      "227/227 [==============================] - 1s 6ms/step - loss: 0.3680 - accuracy: 0.8678 - val_loss: 0.4340 - val_accuracy: 0.7895\n",
      "Epoch 64/100\n",
      "227/227 [==============================] - 1s 6ms/step - loss: 0.3721 - accuracy: 0.8502 - val_loss: 0.3738 - val_accuracy: 0.8421\n",
      "Epoch 65/100\n",
      "227/227 [==============================] - 1s 6ms/step - loss: 0.3857 - accuracy: 0.8326 - val_loss: 0.4192 - val_accuracy: 0.7895\n",
      "Epoch 66/100\n",
      "227/227 [==============================] - 1s 6ms/step - loss: 0.3737 - accuracy: 0.8458 - val_loss: 0.3938 - val_accuracy: 0.8158\n",
      "Epoch 67/100\n",
      "227/227 [==============================] - 1s 6ms/step - loss: 0.3826 - accuracy: 0.8458 - val_loss: 0.4600 - val_accuracy: 0.7895\n",
      "Epoch 68/100\n",
      "227/227 [==============================] - 1s 6ms/step - loss: 0.3719 - accuracy: 0.8370 - val_loss: 0.4454 - val_accuracy: 0.7763\n",
      "Epoch 69/100\n",
      "227/227 [==============================] - 1s 6ms/step - loss: 0.3735 - accuracy: 0.8414 - val_loss: 0.6812 - val_accuracy: 0.7105\n",
      "Epoch 70/100\n",
      "227/227 [==============================] - 1s 6ms/step - loss: 0.3776 - accuracy: 0.8414 - val_loss: 0.4365 - val_accuracy: 0.7763\n",
      "Epoch 71/100\n",
      "227/227 [==============================] - 1s 6ms/step - loss: 0.3687 - accuracy: 0.8546 - val_loss: 0.4185 - val_accuracy: 0.7763\n",
      "Epoch 72/100\n",
      "227/227 [==============================] - 1s 6ms/step - loss: 0.3629 - accuracy: 0.8370 - val_loss: 0.5632 - val_accuracy: 0.7237\n",
      "Epoch 73/100\n",
      "227/227 [==============================] - 1s 6ms/step - loss: 0.3695 - accuracy: 0.8458 - val_loss: 0.4210 - val_accuracy: 0.7632\n",
      "Epoch 74/100\n",
      "227/227 [==============================] - 1s 6ms/step - loss: 0.3518 - accuracy: 0.8590 - val_loss: 0.5239 - val_accuracy: 0.7632\n",
      "Epoch 75/100\n",
      "227/227 [==============================] - 1s 6ms/step - loss: 0.3618 - accuracy: 0.8634 - val_loss: 0.4003 - val_accuracy: 0.8158\n",
      "Epoch 76/100\n",
      "227/227 [==============================] - 1s 6ms/step - loss: 0.3197 - accuracy: 0.8678 - val_loss: 0.5156 - val_accuracy: 0.7763\n",
      "Epoch 77/100\n",
      "227/227 [==============================] - 1s 6ms/step - loss: 0.3325 - accuracy: 0.8546 - val_loss: 0.4194 - val_accuracy: 0.8158\n",
      "Epoch 78/100\n",
      "227/227 [==============================] - 1s 6ms/step - loss: 0.3456 - accuracy: 0.8458 - val_loss: 0.4075 - val_accuracy: 0.8158\n",
      "Epoch 79/100\n",
      "227/227 [==============================] - 1s 5ms/step - loss: 0.3107 - accuracy: 0.8767 - val_loss: 0.5595 - val_accuracy: 0.7763\n",
      "Epoch 80/100\n",
      "227/227 [==============================] - 1s 6ms/step - loss: 0.3386 - accuracy: 0.8590 - val_loss: 0.4344 - val_accuracy: 0.7895\n",
      "Epoch 81/100\n",
      "227/227 [==============================] - 1s 6ms/step - loss: 0.3175 - accuracy: 0.8811 - val_loss: 0.4682 - val_accuracy: 0.7763\n",
      "Epoch 82/100\n",
      "227/227 [==============================] - 1s 6ms/step - loss: 0.3181 - accuracy: 0.8634 - val_loss: 0.4312 - val_accuracy: 0.8421\n",
      "Epoch 83/100\n",
      "227/227 [==============================] - 1s 6ms/step - loss: 0.3067 - accuracy: 0.8855 - val_loss: 0.4180 - val_accuracy: 0.8158\n",
      "Epoch 84/100\n",
      "227/227 [==============================] - 1s 6ms/step - loss: 0.2903 - accuracy: 0.8811 - val_loss: 0.4152 - val_accuracy: 0.8421\n",
      "Epoch 85/100\n",
      "227/227 [==============================] - 1s 6ms/step - loss: 0.3097 - accuracy: 0.8767 - val_loss: 0.4975 - val_accuracy: 0.8026\n",
      "Epoch 86/100\n",
      "227/227 [==============================] - 1s 6ms/step - loss: 0.2955 - accuracy: 0.8855 - val_loss: 0.4222 - val_accuracy: 0.7763\n",
      "Epoch 87/100\n",
      "227/227 [==============================] - 1s 6ms/step - loss: 0.2809 - accuracy: 0.8767 - val_loss: 0.4463 - val_accuracy: 0.8158\n",
      "Epoch 88/100\n",
      "227/227 [==============================] - 1s 6ms/step - loss: 0.2790 - accuracy: 0.8943 - val_loss: 0.4528 - val_accuracy: 0.8026\n",
      "Epoch 89/100\n",
      "227/227 [==============================] - 1s 6ms/step - loss: 0.2855 - accuracy: 0.8634 - val_loss: 0.5025 - val_accuracy: 0.7895\n",
      "Epoch 90/100\n",
      "227/227 [==============================] - 1s 6ms/step - loss: 0.2831 - accuracy: 0.8811 - val_loss: 0.4515 - val_accuracy: 0.8289\n",
      "Epoch 91/100\n",
      "227/227 [==============================] - 1s 6ms/step - loss: 0.2892 - accuracy: 0.8722 - val_loss: 0.4927 - val_accuracy: 0.7895\n",
      "Epoch 92/100\n",
      "227/227 [==============================] - 1s 6ms/step - loss: 0.2660 - accuracy: 0.9031 - val_loss: 0.4487 - val_accuracy: 0.8289\n",
      "Epoch 93/100\n",
      "227/227 [==============================] - 1s 6ms/step - loss: 0.2657 - accuracy: 0.8987 - val_loss: 0.4554 - val_accuracy: 0.8421\n",
      "Epoch 94/100\n",
      "227/227 [==============================] - 1s 6ms/step - loss: 0.2732 - accuracy: 0.8987 - val_loss: 0.4718 - val_accuracy: 0.8026\n",
      "Epoch 95/100\n",
      "227/227 [==============================] - 1s 6ms/step - loss: 0.2636 - accuracy: 0.9075 - val_loss: 0.5000 - val_accuracy: 0.7895\n",
      "Epoch 96/100\n",
      "227/227 [==============================] - 1s 6ms/step - loss: 0.2550 - accuracy: 0.8987 - val_loss: 0.6416 - val_accuracy: 0.7368\n",
      "Epoch 97/100\n",
      "227/227 [==============================] - 1s 6ms/step - loss: 0.2635 - accuracy: 0.8811 - val_loss: 0.4725 - val_accuracy: 0.8158\n",
      "Epoch 98/100\n",
      "227/227 [==============================] - 1s 6ms/step - loss: 0.2612 - accuracy: 0.8987 - val_loss: 0.4839 - val_accuracy: 0.8158\n",
      "Epoch 99/100\n",
      "227/227 [==============================] - 1s 6ms/step - loss: 0.2712 - accuracy: 0.8987 - val_loss: 0.5192 - val_accuracy: 0.7763\n",
      "Epoch 100/100\n",
      "227/227 [==============================] - 1s 6ms/step - loss: 0.2269 - accuracy: 0.9207 - val_loss: 0.5203 - val_accuracy: 0.7763\n",
      "0.7763157894736842\n",
      "lstm\n",
      "Accuracy: 77.63%\n",
      "[[26  7]\n",
      " [10 33]]\n"
     ]
    }
   ],
   "source": [
    "from keras import optimizers\n",
    "sgd = optimizers.SGD(lr=0.5, decay=1e-6, momentum=0.9, nesterov=True)\n",
    "lstm = Sequential()\n",
    "lstm.add(LSTM(output_dim=256, activation='sigmoid', inner_activation='hard_sigmoid', return_sequences=True))\n",
    "lstm.add(Dropout(0.3))\n",
    "lstm.add(LSTM(output_dim=256, activation='sigmoid', inner_activation='hard_sigmoid'))\n",
    "lstm.add(Dropout(0.3))\n",
    "lstm.add(Dense(1, activation='sigmoid'))\n",
    "lstm.compile(loss='binary_crossentropy',optimizer='rmsprop',metrics=['accuracy'])\n",
    "lstm.fit(x_train,y_train1,batch_size=10, nb_epoch=100, validation_data=(x_test, y_test1), verbose = 1)\n",
    "y_pred_lstm=lstm.predict(x_test)\n",
    "for i in range (0,76):\n",
    "    if y_pred_lstm[i] > .53:\n",
    "        y_pred_lstm[i]=1\n",
    "    else:\n",
    "        y_pred_lstm[i]=0\n",
    "print(accuracy_score(y_test1, y_pred_lstm))\n",
    "print(\"lstm\")\n",
    "print(\"Accuracy: {:.2f}%\".format(accuracy_score(y_test1, y_pred_lstm)*100))\n",
    "print( confusion_matrix(y_test1, y_pred_lstm))"
   ]
  },
  {
   "cell_type": "code",
   "execution_count": 38,
   "metadata": {},
   "outputs": [
    {
     "name": "stderr",
     "output_type": "stream",
     "text": [
      "/opt/conda/lib/python3.6/site-packages/ipykernel_launcher.py:7: UserWarning:\n",
      "\n",
      "The `nb_epoch` argument in `fit` has been renamed `epochs`.\n",
      "\n"
     ]
    },
    {
     "name": "stdout",
     "output_type": "stream",
     "text": [
      "Train on 227 samples, validate on 76 samples\n",
      "Epoch 1/50\n",
      "227/227 [==============================] - 0s 1ms/step - loss: 0.6919 - accuracy: 0.4890 - val_loss: 0.6788 - val_accuracy: 0.5658\n",
      "Epoch 2/50\n",
      "227/227 [==============================] - 0s 191us/step - loss: 0.6822 - accuracy: 0.5374 - val_loss: 0.6697 - val_accuracy: 0.5658\n",
      "Epoch 3/50\n",
      "227/227 [==============================] - 0s 188us/step - loss: 0.6689 - accuracy: 0.5771 - val_loss: 0.6604 - val_accuracy: 0.8289\n",
      "Epoch 4/50\n",
      "227/227 [==============================] - 0s 180us/step - loss: 0.6504 - accuracy: 0.8106 - val_loss: 0.6304 - val_accuracy: 0.8026\n",
      "Epoch 5/50\n",
      "227/227 [==============================] - 0s 188us/step - loss: 0.6166 - accuracy: 0.7489 - val_loss: 0.5910 - val_accuracy: 0.7895\n",
      "Epoch 6/50\n",
      "227/227 [==============================] - 0s 183us/step - loss: 0.5772 - accuracy: 0.7797 - val_loss: 0.5330 - val_accuracy: 0.8026\n",
      "Epoch 7/50\n",
      "227/227 [==============================] - 0s 181us/step - loss: 0.5134 - accuracy: 0.8106 - val_loss: 0.4790 - val_accuracy: 0.8026\n",
      "Epoch 8/50\n",
      "227/227 [==============================] - 0s 185us/step - loss: 0.4710 - accuracy: 0.8282 - val_loss: 0.4390 - val_accuracy: 0.8421\n",
      "Epoch 9/50\n",
      "227/227 [==============================] - 0s 185us/step - loss: 0.4222 - accuracy: 0.8370 - val_loss: 0.4116 - val_accuracy: 0.8158\n",
      "Epoch 10/50\n",
      "227/227 [==============================] - 0s 186us/step - loss: 0.3942 - accuracy: 0.8502 - val_loss: 0.3923 - val_accuracy: 0.8553\n",
      "Epoch 11/50\n",
      "227/227 [==============================] - 0s 185us/step - loss: 0.3796 - accuracy: 0.8370 - val_loss: 0.3826 - val_accuracy: 0.8553\n",
      "Epoch 12/50\n",
      "227/227 [==============================] - 0s 184us/step - loss: 0.3688 - accuracy: 0.8634 - val_loss: 0.3782 - val_accuracy: 0.8289\n",
      "Epoch 13/50\n",
      "227/227 [==============================] - 0s 169us/step - loss: 0.3618 - accuracy: 0.8458 - val_loss: 0.3765 - val_accuracy: 0.8289\n",
      "Epoch 14/50\n",
      "227/227 [==============================] - 0s 172us/step - loss: 0.3575 - accuracy: 0.8546 - val_loss: 0.3792 - val_accuracy: 0.8289\n",
      "Epoch 15/50\n",
      "227/227 [==============================] - 0s 169us/step - loss: 0.3532 - accuracy: 0.8458 - val_loss: 0.3800 - val_accuracy: 0.8289\n",
      "Epoch 16/50\n",
      "227/227 [==============================] - 0s 170us/step - loss: 0.3547 - accuracy: 0.8326 - val_loss: 0.3819 - val_accuracy: 0.8158\n",
      "Epoch 17/50\n",
      "227/227 [==============================] - 0s 175us/step - loss: 0.3502 - accuracy: 0.8546 - val_loss: 0.3830 - val_accuracy: 0.8289\n",
      "Epoch 18/50\n",
      "227/227 [==============================] - 0s 170us/step - loss: 0.3533 - accuracy: 0.8326 - val_loss: 0.3848 - val_accuracy: 0.8289\n",
      "Epoch 19/50\n",
      "227/227 [==============================] - 0s 172us/step - loss: 0.3510 - accuracy: 0.8414 - val_loss: 0.3856 - val_accuracy: 0.8289\n",
      "Epoch 20/50\n",
      "227/227 [==============================] - 0s 171us/step - loss: 0.3470 - accuracy: 0.8458 - val_loss: 0.3869 - val_accuracy: 0.8289\n",
      "Epoch 21/50\n",
      "227/227 [==============================] - 0s 177us/step - loss: 0.3501 - accuracy: 0.8414 - val_loss: 0.3891 - val_accuracy: 0.8289\n",
      "Epoch 22/50\n",
      "227/227 [==============================] - 0s 185us/step - loss: 0.3509 - accuracy: 0.8458 - val_loss: 0.3879 - val_accuracy: 0.8289\n",
      "Epoch 23/50\n",
      "227/227 [==============================] - 0s 183us/step - loss: 0.3458 - accuracy: 0.8502 - val_loss: 0.3921 - val_accuracy: 0.8289\n",
      "Epoch 24/50\n",
      "227/227 [==============================] - 0s 180us/step - loss: 0.3466 - accuracy: 0.8370 - val_loss: 0.3917 - val_accuracy: 0.8289\n",
      "Epoch 25/50\n",
      "227/227 [==============================] - 0s 181us/step - loss: 0.3454 - accuracy: 0.8546 - val_loss: 0.3944 - val_accuracy: 0.8289\n",
      "Epoch 26/50\n",
      "227/227 [==============================] - 0s 174us/step - loss: 0.3486 - accuracy: 0.8414 - val_loss: 0.3956 - val_accuracy: 0.8289\n",
      "Epoch 27/50\n",
      "227/227 [==============================] - 0s 174us/step - loss: 0.3464 - accuracy: 0.8546 - val_loss: 0.3949 - val_accuracy: 0.8289\n",
      "Epoch 28/50\n",
      "227/227 [==============================] - 0s 192us/step - loss: 0.3435 - accuracy: 0.8414 - val_loss: 0.3957 - val_accuracy: 0.8289\n",
      "Epoch 29/50\n",
      "227/227 [==============================] - 0s 185us/step - loss: 0.3506 - accuracy: 0.8546 - val_loss: 0.3947 - val_accuracy: 0.8289\n",
      "Epoch 30/50\n",
      "227/227 [==============================] - 0s 197us/step - loss: 0.3438 - accuracy: 0.8370 - val_loss: 0.3979 - val_accuracy: 0.8289\n",
      "Epoch 31/50\n",
      "227/227 [==============================] - 0s 184us/step - loss: 0.3437 - accuracy: 0.8458 - val_loss: 0.3957 - val_accuracy: 0.8289\n",
      "Epoch 32/50\n",
      "227/227 [==============================] - 0s 168us/step - loss: 0.3434 - accuracy: 0.8590 - val_loss: 0.3980 - val_accuracy: 0.8289\n",
      "Epoch 33/50\n",
      "227/227 [==============================] - 0s 176us/step - loss: 0.3445 - accuracy: 0.8414 - val_loss: 0.4001 - val_accuracy: 0.8289\n",
      "Epoch 34/50\n",
      "227/227 [==============================] - 0s 185us/step - loss: 0.3433 - accuracy: 0.8458 - val_loss: 0.3965 - val_accuracy: 0.8289\n",
      "Epoch 35/50\n",
      "227/227 [==============================] - 0s 182us/step - loss: 0.3437 - accuracy: 0.8546 - val_loss: 0.3978 - val_accuracy: 0.8289\n",
      "Epoch 36/50\n",
      "227/227 [==============================] - 0s 182us/step - loss: 0.3410 - accuracy: 0.8546 - val_loss: 0.3994 - val_accuracy: 0.8289\n",
      "Epoch 37/50\n",
      "227/227 [==============================] - 0s 177us/step - loss: 0.3425 - accuracy: 0.8502 - val_loss: 0.3983 - val_accuracy: 0.8289\n",
      "Epoch 38/50\n",
      "227/227 [==============================] - 0s 171us/step - loss: 0.3464 - accuracy: 0.8458 - val_loss: 0.3990 - val_accuracy: 0.8289\n",
      "Epoch 39/50\n",
      "227/227 [==============================] - 0s 171us/step - loss: 0.3417 - accuracy: 0.8502 - val_loss: 0.3988 - val_accuracy: 0.8289\n",
      "Epoch 40/50\n",
      "227/227 [==============================] - 0s 176us/step - loss: 0.3460 - accuracy: 0.8502 - val_loss: 0.3989 - val_accuracy: 0.8289\n",
      "Epoch 41/50\n",
      "227/227 [==============================] - 0s 172us/step - loss: 0.3459 - accuracy: 0.8370 - val_loss: 0.3993 - val_accuracy: 0.8289\n",
      "Epoch 42/50\n",
      "227/227 [==============================] - 0s 177us/step - loss: 0.3411 - accuracy: 0.8590 - val_loss: 0.3994 - val_accuracy: 0.8289\n",
      "Epoch 43/50\n",
      "227/227 [==============================] - 0s 175us/step - loss: 0.3403 - accuracy: 0.8502 - val_loss: 0.3988 - val_accuracy: 0.8289\n",
      "Epoch 44/50\n",
      "227/227 [==============================] - 0s 182us/step - loss: 0.3420 - accuracy: 0.8546 - val_loss: 0.3982 - val_accuracy: 0.8289\n",
      "Epoch 45/50\n",
      "227/227 [==============================] - 0s 179us/step - loss: 0.3449 - accuracy: 0.8502 - val_loss: 0.3987 - val_accuracy: 0.8289\n",
      "Epoch 46/50\n",
      "227/227 [==============================] - 0s 167us/step - loss: 0.3427 - accuracy: 0.8546 - val_loss: 0.4016 - val_accuracy: 0.8289\n",
      "Epoch 47/50\n",
      "227/227 [==============================] - 0s 167us/step - loss: 0.3407 - accuracy: 0.8326 - val_loss: 0.3986 - val_accuracy: 0.8289\n",
      "Epoch 48/50\n",
      "227/227 [==============================] - 0s 178us/step - loss: 0.3452 - accuracy: 0.8546 - val_loss: 0.3979 - val_accuracy: 0.8289\n",
      "Epoch 49/50\n",
      "227/227 [==============================] - 0s 179us/step - loss: 0.3435 - accuracy: 0.8458 - val_loss: 0.3989 - val_accuracy: 0.8289\n",
      "Epoch 50/50\n",
      "227/227 [==============================] - 0s 181us/step - loss: 0.3422 - accuracy: 0.8502 - val_loss: 0.3995 - val_accuracy: 0.8289\n",
      "0.8421052631578947\n",
      "ann\n",
      "Accuracy: 84.21%\n",
      "[[26  7]\n",
      " [ 5 38]]\n"
     ]
    }
   ],
   "source": [
    "ann = Sequential()\n",
    "ann.add(Dense(50, input_dim=13, activation='sigmoid'))\n",
    "ann.add(Dense(50,  activation='sigmoid'))\n",
    "ann.add(Dense(50, activation='sigmoid'))\n",
    "ann.add(Dense(1, activation='sigmoid'))\n",
    "ann.compile(loss='binary_crossentropy', optimizer='adam', metrics=['accuracy'])\n",
    "ann.fit(X_train1,y_train1,batch_size=10, nb_epoch=50, validation_data=(X_test1, y_test1), verbose = 1)\n",
    "y_pred_ann=ann.predict(X_test1)\n",
    "for i in range (0,76):\n",
    "    if y_pred_ann[i] > .6:\n",
    "        y_pred_ann[i]=1\n",
    "    else:\n",
    "        y_pred_ann[i]=0\n",
    "print(accuracy_score(y_test1, y_pred_ann))\n",
    "print(\"ann\")\n",
    "print(\"Accuracy: {:.2f}%\".format(accuracy_score(y_test1, y_pred_ann)*100))\n",
    "print( confusion_matrix(y_test1, y_pred_ann))"
   ]
  }
 ],
 "metadata": {
  "kernelspec": {
   "display_name": "Python 3 (ipykernel)",
   "language": "python",
   "name": "python3"
  },
  "language_info": {
   "codemirror_mode": {
    "name": "ipython",
    "version": 3
   },
   "file_extension": ".py",
   "mimetype": "text/x-python",
   "name": "python",
   "nbconvert_exporter": "python",
   "pygments_lexer": "ipython3",
   "version": "3.9.7"
  }
 },
 "nbformat": 4,
 "nbformat_minor": 1
}
